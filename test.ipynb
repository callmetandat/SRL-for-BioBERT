{
 "cells": [
  {
   "cell_type": "code",
   "execution_count": 2,
   "metadata": {},
   "outputs": [
    {
     "name": "stdout",
     "output_type": "stream",
     "text": [
      "data: type: <class 'list'>\n",
      "prediction: ['O', 'O', 'O', 'O', 'O', 'O', 'X', 'O', 'O', '[CLS]', 'O', 'O', 'O', 'X', 'O', 'O', 'O', 'O', 'O', 'O']\n",
      "label: ['B-A0', 'O', 'O', 'O', 'O', 'O', 'O', 'O', 'O', 'B-V', 'B-A2', 'I-A2', 'O', 'B-A1', 'I-A1', 'I-A1', 'O', 'O', 'O', 'O']\n",
      "lineTok: ['B-A0', 'O', 'O', 'O', 'O', 'O', 'O', 'O', 'O', 'B-V', 'B-A2', 'I-A2', 'O', 'B-A1', 'I-A1', 'I-A1', 'O', 'O', 'O', 'O']\n",
      "lineLab: ['O', 'O', 'O', 'O', 'O', 'O', 'X', 'O', 'O', '[CLS]', 'O', 'O', 'O', 'X', 'O', 'O', 'O', 'O', 'O', 'O']\n",
      "prediction_new: ['O', 'O', 'O', 'O', 'O', 'O', 'O', 'O', 'O', 'O', 'O', 'O', 'O', 'O', 'O', 'O', 'O', 'O', 'O', 'O']\n",
      "label_new: ['B-A0', 'O', 'O', 'O', 'O', 'O', 'O', 'O', 'O', 'O', 'B-A2', 'I-A2', 'O', 'O', 'I-A1', 'I-A1', 'O', 'O', 'O', 'O']\n",
      "new1: [['B-A0', 'O', 'O', 'O', 'O', 'O', 'O', 'O', 'O', 'O', 'B-A2', 'I-A2', 'O', 'O', 'I-A1', 'I-A1', 'O', 'O', 'O', 'O']]\n",
      "result_f1: 0.75\n"
     ]
    }
   ],
   "source": [
    "from sklearn.metrics import f1_score\n",
    "import ast\n",
    "\n",
    "\n",
    "data=[]\n",
    "prediction_new = []\n",
    "label_new = []\n",
    "\n",
    "# Read the file and extract the prediction and label columns\n",
    "line = \"17625\t['O', 'O', 'O', 'O', 'O', 'O', 'X', 'O', 'O', '[CLS]', 'O', 'O', 'O', 'X', 'O', 'O', 'O', 'O', 'O', 'O']\t['B-A0', 'O', 'O', 'O', 'O', 'O', 'O', 'O', 'O', 'B-V', 'B-A2', 'I-A2', 'O', 'B-A1', 'I-A1', 'I-A1', 'O', 'O', 'O', 'O']\"\n",
    "\n",
    "\n",
    "uid, prediction, label = line.strip().split(\"\\t\")\n",
    "data.append((prediction.strip(\"[]\"), label.strip(\"[]\")))\n",
    "\n",
    "print(f\"data: type: {type(data)}\")\n",
    "print(f\"prediction: {prediction}\")\n",
    "print(f\"label: {label}\")\n",
    "# convert list to string\n",
    "predictions_data = [d[0] for d in data]\n",
    "labels_data = [d[1] for d in data]\n",
    "\n",
    "lineTok = ast.literal_eval(label)\n",
    "lineLab = ast.literal_eval(prediction)\n",
    "\n",
    "print(f\"lineTok: {lineTok}\")\n",
    "print(f\"lineLab: {lineLab}\")\n",
    "for (Tok, Lab) in zip(lineTok, lineLab):\n",
    "    \n",
    "    if Lab in ['[CLS]','[SEP]', 'X']: # replace non-text tokens with O. These will not be evaluated.\n",
    "        prediction_new.append('O')\n",
    "        label_new.append('O')\n",
    "        continue\n",
    "    if(Lab == \"B-V\"):\n",
    "        prediction_new.append(\"V\")\n",
    "    else:\n",
    "        prediction_new.append(Lab)\n",
    "        label_new.append(Tok)\n",
    "        \n",
    "print(f\"prediction_new: {prediction_new}\")\n",
    "print(f\"label_new: {label_new}\")\n",
    "\n",
    "from sklearn.metrics import accuracy_score, f1_score\n",
    "from sklearn.metrics import recall_score as class_recall_score\n",
    "\n",
    "new1 = [label_new]\n",
    "print(f\"new1: {new1}\")\n",
    "new2 = [prediction_new]\n",
    "\n",
    "result_f1 = f1_score(label_new, prediction_new,average=\"micro\")\n",
    "\n",
    "print(f\"result_f1: {result_f1}\")"
   ]
  },
  {
   "cell_type": "code",
   "execution_count": 60,
   "metadata": {},
   "outputs": [
    {
     "name": "stdout",
     "output_type": "stream",
     "text": [
      "prediction:  <class 'list'>\n"
     ]
    }
   ],
   "source": [
    "data = []\n",
    "labels = []\n",
    "predictions = []\n",
    "\n",
    "filePath = \"./output/conllsrl_test_predictions_29.tsv\"\n",
    "with open(filePath, \"r\") as f:\n",
    "    for line in f:\n",
    "        # delete the first line\n",
    "        if \"uid\" in line:\n",
    "            continue\n",
    "        uid, prediction, label = line.strip().split(\"\\t\")\n",
    "        labels.append(label)\n",
    "        predictions.append(prediction)\n",
    "        data.append((prediction.strip(\"[]\"), label.strip(\"[]\")))\n",
    "\n",
    "print(\"prediction: \", type(data))"
   ]
  },
  {
   "cell_type": "code",
   "execution_count": 3,
   "metadata": {},
   "outputs": [
    {
     "name": "stdout",
     "output_type": "stream",
     "text": [
      "prediction:  <class 'list'>\n",
      "result_f1: 0.761921602045164\n"
     ]
    }
   ],
   "source": [
    "data = []\n",
    "labels = []\n",
    "predictions = []\n",
    "\n",
    "filePath = \"./output/conllsrl_test_predictions_29.tsv\"\n",
    "with open(filePath, \"r\") as f:\n",
    "    for line in f:\n",
    "        # delete the first line\n",
    "        if \"uid\" in line:\n",
    "            continue\n",
    "        uid, prediction, label = line.strip().split(\"\\t\")\n",
    "        labels.append(label)\n",
    "        predictions.append(prediction)\n",
    "        data.append((prediction.strip(\"[]\"), label.strip(\"[]\")))\n",
    "\n",
    "print(\"prediction: \", type(data))\n",
    "# apply this conversion to all the elements in the list\n",
    "lineToks = [ast.literal_eval(label) for label in labels]\n",
    "lineLabs = [ast.literal_eval(prediction) for prediction in predictions]\n",
    "\n",
    "trueLabels = [] # labels\n",
    "predictLabels = [] # predictions\n",
    "\n",
    "for lineTok, lineLab in zip(lineToks, lineLabs):\n",
    "    if lineLab in ['[CLS]','[SEP]', 'X']: # replace non-text tokens with O. These will not be evaluated.\n",
    "        predictLabels.append('O')\n",
    "        trueLabels.append('O')\n",
    "        continue\n",
    "    if(lineLab == \"B-V\"):\n",
    "        predictLabels.append(\"V\")\n",
    "    else:\n",
    "        predictLabels.append(lineLab)\n",
    "        trueLabels.append(lineTok) \n",
    " \n",
    "# flatten the list of lists into a single list\n",
    "trueLabels = [item for sublist in trueLabels for item in sublist]\n",
    "predictLabels = [item for sublist in predictLabels for item in sublist]\n",
    "       \n",
    "result_f1 = f1_score(trueLabels, predictLabels,average=\"micro\")\n",
    "\n",
    "print(f\"result_f1: {result_f1}\")"
   ]
  }
 ],
 "metadata": {
  "kernelspec": {
   "display_name": "base",
   "language": "python",
   "name": "python3"
  },
  "language_info": {
   "codemirror_mode": {
    "name": "ipython",
    "version": 3
   },
   "file_extension": ".py",
   "mimetype": "text/x-python",
   "name": "python",
   "nbconvert_exporter": "python",
   "pygments_lexer": "ipython3",
   "version": "3.10.5"
  },
  "orig_nbformat": 4
 },
 "nbformat": 4,
 "nbformat_minor": 2
}
