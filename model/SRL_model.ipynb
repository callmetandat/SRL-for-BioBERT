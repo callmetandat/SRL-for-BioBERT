{
 "cells": [
  {
   "cell_type": "code",
   "execution_count": 6,
   "metadata": {},
   "outputs": [
    {
     "name": "stderr",
     "output_type": "stream",
     "text": [
      "Traceback (most recent call last):\n",
      "  File \"c:\\Users\\letan\\Desktop\\SRL-for-BioBERT\\data_transformations.py\", line 39, in <module>\n",
      "    main()\n",
      "  File \"c:\\Users\\letan\\Desktop\\SRL-for-BioBERT\\data_transformations.py\", line 18, in main\n",
      "    transformParams = TransformParams(args.transform_file)\n",
      "  File \"c:\\Users\\letan\\Desktop\\SRL-for-BioBERT\\utils\\transform_utils.py\", line 13, in __init__\n",
      "    self.transformDetails = yaml.safe_load(open(transformFilePath))\n",
      "FileNotFoundError: [Errno 2] No such file or directory: \"'transform_file_conll.yml'\"\n"
     ]
    }
   ],
   "source": [
    "!python ../data_transformations.py --transform_file 'transform_file_conll.yml'"
   ]
  },
  {
   "cell_type": "code",
   "execution_count": null,
   "metadata": {},
   "outputs": [],
   "source": [
    "!python ../data_preparation.py --task_file 'tasks_file_SRL.yml' --data_dir 'coNLL_data' --max_seq_len 50\n"
   ]
  }
 ],
 "metadata": {
  "kernelspec": {
   "display_name": "Python 3",
   "language": "python",
   "name": "python3"
  },
  "language_info": {
   "codemirror_mode": {
    "name": "ipython",
    "version": 3
   },
   "file_extension": ".py",
   "mimetype": "text/x-python",
   "name": "python",
   "nbconvert_exporter": "python",
   "pygments_lexer": "ipython3",
   "version": "3.10.5"
  },
  "orig_nbformat": 4
 },
 "nbformat": 4,
 "nbformat_minor": 2
}
