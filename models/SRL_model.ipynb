{
 "cells": [
  {
   "cell_type": "code",
   "execution_count": null,
   "metadata": {},
   "outputs": [],
   "source": [
    "!python ../data_transformations.py --transform_file 'transform_file_conll.yml'"
   ]
  },
  {
   "cell_type": "code",
   "execution_count": null,
   "metadata": {},
   "outputs": [],
   "source": [
    "!python ../data_preparation.py --task_file 'tasks_file_SRL.yml' --data_dir 'coNLL_data' --max_seq_len 50\n",
    "!python ../data_preparation.py --task_file tasks_file_SRL.yml --data_dir ../data/coNLL_tsv --max_seq_len 50"
   ]
  },
  {
   "cell_type": "code",
   "execution_count": null,
   "metadata": {},
   "outputs": [],
   "source": [
    "!python ../train.py \\\n",
    "    --data_dir 'content/data/bert-base-uncased_prepared_data' \\\n",
    "    --task_file 'tasks_file_SRL.yml' \\\n",
    "    --out_dir 'conll_ner_pos_bert_base' \\\n",
    "    --epochs 10 \\\n",
    "    --train_batch_size 32 \\\n",
    "    --eval_batch_size 32 \\\n",
    "    --grad_accumulation_steps 1 \\\n",
    "    --log_per_updates 50 \\\n",
    "    --max_seq_len 50 \\\n",
    "    --eval_while_train \\\n",
    "    --test_while_train \\\n",
    "    --silent\n",
    "    \n",
    "# python ../train.py --data_dir ../data/coNLL_tsv/bert-base-uncased_prepared_data --task_file tasks_file_SRL.yml --out_dir ../output/ --epochs 10 --train_batch_size 32 --eval_batch_size 32 --grad_accumulation_steps 32 --log_per_updates 50 --max_seq_len 50 --eval_while_train --test_while_train --silent\n",
    "\n",
    "# python ./train.py --data_dir ./data/coNLL_tsv/bert-base-uncased_prepared_data --task_file tasks_file_SRL.yml --out_dir ../output/ --epochs 10 --train_batch_size 32 --eval_batch_size 32 --grad_accumulation_steps 32 --log_per_updates 50 --max_seq_len 50 --eval_while_train --test_while_train --silent"
   ]
  },
  {
   "cell_type": "code",
   "execution_count": 5,
   "metadata": {},
   "outputs": [
    {
     "name": "stdout",
     "output_type": "stream",
     "text": [
      "Epoch: 0:   0%|                              | 5/1302 [00:52<3:14:56,  9.02s/it]^C\n",
      "Epoch: 0:   0%|                              | 5/1302 [00:53<3:50:10, 10.65s/it]\n",
      "Traceback (most recent call last):\n",
      "  File \"../train.py\", line 969, in <module>\n",
      "    main()\n",
      "  File \"../train.py\", line 593, in main\n",
      "    model.update_step(batchMetaData, batchData)\n",
      "  File \"/mnt/c/Users/Phat Pham/Documents/THESIS/SRL-for-BioBERT/models/model.py\", line 218, in update_step\n",
      "    logits = self.network(*modelInputs)\n",
      "  File \"/home/phatpham/anaconda3/envs/min_ds-env/lib/python3.8/site-packages/torch/nn/modules/module.py\", line 1501, in _call_impl\n",
      "    return forward_call(*args, **kwargs)\n",
      "  File \"/mnt/c/Users/Phat Pham/Documents/THESIS/SRL-for-BioBERT/models/model.py\", line 84, in forward\n",
      "    outputs = self.sharedModel(input_ids = tokenIds,\n",
      "  File \"/home/phatpham/anaconda3/envs/min_ds-env/lib/python3.8/site-packages/torch/nn/modules/module.py\", line 1501, in _call_impl\n",
      "    return forward_call(*args, **kwargs)\n",
      "  File \"/home/phatpham/anaconda3/envs/min_ds-env/lib/python3.8/site-packages/transformers/models/bert/modeling_bert.py\", line 1020, in forward\n",
      "    encoder_outputs = self.encoder(\n",
      "  File \"/home/phatpham/anaconda3/envs/min_ds-env/lib/python3.8/site-packages/torch/nn/modules/module.py\", line 1501, in _call_impl\n",
      "    return forward_call(*args, **kwargs)\n",
      "  File \"/home/phatpham/anaconda3/envs/min_ds-env/lib/python3.8/site-packages/transformers/models/bert/modeling_bert.py\", line 610, in forward\n",
      "    layer_outputs = layer_module(\n",
      "  File \"/home/phatpham/anaconda3/envs/min_ds-env/lib/python3.8/site-packages/torch/nn/modules/module.py\", line 1501, in _call_impl\n",
      "    return forward_call(*args, **kwargs)\n",
      "  File \"/home/phatpham/anaconda3/envs/min_ds-env/lib/python3.8/site-packages/transformers/models/bert/modeling_bert.py\", line 537, in forward\n",
      "    layer_output = apply_chunking_to_forward(\n",
      "  File \"/home/phatpham/anaconda3/envs/min_ds-env/lib/python3.8/site-packages/transformers/pytorch_utils.py\", line 237, in apply_chunking_to_forward\n",
      "    return forward_fn(*input_tensors)\n",
      "  File \"/home/phatpham/anaconda3/envs/min_ds-env/lib/python3.8/site-packages/transformers/models/bert/modeling_bert.py\", line 550, in feed_forward_chunk\n",
      "    layer_output = self.output(intermediate_output, attention_output)\n",
      "  File \"/home/phatpham/anaconda3/envs/min_ds-env/lib/python3.8/site-packages/torch/nn/modules/module.py\", line 1501, in _call_impl\n",
      "    return forward_call(*args, **kwargs)\n",
      "  File \"/home/phatpham/anaconda3/envs/min_ds-env/lib/python3.8/site-packages/transformers/models/bert/modeling_bert.py\", line 462, in forward\n",
      "    hidden_states = self.dense(hidden_states)\n",
      "  File \"/home/phatpham/anaconda3/envs/min_ds-env/lib/python3.8/site-packages/torch/nn/modules/module.py\", line 1501, in _call_impl\n",
      "    return forward_call(*args, **kwargs)\n",
      "  File \"/home/phatpham/anaconda3/envs/min_ds-env/lib/python3.8/site-packages/torch/nn/modules/linear.py\", line 114, in forward\n",
      "    return F.linear(input, self.weight, self.bias)\n",
      "KeyboardInterrupt\n"
     ]
    }
   ],
   "source": [
    "!python ../train.py --data_dir ../data/coNLL_tsv/bert-base-uncased_prepared_data --task_file tasks_file_SRL.yml --out_dir ../output/ --epochs 10 --train_batch_size 32 --eval_batch_size 32 --grad_accumulation_steps 32 --log_per_updates 50 --max_seq_len 50 --eval_while_train --test_while_train --silent"
   ]
  },
  {
   "cell_type": "code",
   "execution_count": null,
   "metadata": {},
   "outputs": [],
   "source": []
  }
 ],
 "metadata": {
  "kernelspec": {
   "display_name": "Python 3",
   "language": "python",
   "name": "python3"
  },
  "language_info": {
   "codemirror_mode": {
    "name": "ipython",
    "version": 3
   },
   "file_extension": ".py",
   "mimetype": "text/x-python",
   "name": "python",
   "nbconvert_exporter": "python",
   "pygments_lexer": "ipython3",
   "version": "3.8.8"
  },
  "orig_nbformat": 4
 },
 "nbformat": 4,
 "nbformat_minor": 2
}
